{
 "cells": [
  {
   "cell_type": "markdown",
   "metadata": {},
   "source": [
    "<h1>410821322 Steven Jonathan</h1>"
   ]
  },
  {
   "cell_type": "markdown",
   "metadata": {},
   "source": [
    "<h2>Setting up the data</h2>"
   ]
  },
  {
   "cell_type": "markdown",
   "metadata": {},
   "source": [
    "<h3>Removing excessive lines at the end of horse-colic.data</h3>"
   ]
  },
  {
   "cell_type": "code",
   "execution_count": null,
   "metadata": {},
   "outputs": [],
   "source": [
    "line = open('horse-colic.data', 'r', encoding='utf-8').readlines() #Remove the endspace so that fitting won't be a problem\n",
    "# line = ' '.join(line.split())\n",
    "temp = []\n",
    "for i in line:\n",
    "    i = i.strip()\n",
    "    temp.append(i+'\\n')\n",
    "# print(temp)\n",
    "line = open('horse-colic.data', 'w', encoding='utf-8')\n",
    "line.writelines(temp)\n",
    "line.close()"
   ]
  },
  {
   "cell_type": "markdown",
   "metadata": {},
   "source": [
    "<h3>Removing excessive lines at the end of horse-colic.test</h3>"
   ]
  },
  {
   "cell_type": "code",
   "execution_count": null,
   "metadata": {},
   "outputs": [],
   "source": [
    "line = open('horse-colic.test', 'r', encoding='utf-8').readlines() #Remove the endspace so that fitting won't be a problem\n",
    "# line = ' '.join(line.split())\n",
    "temp = []\n",
    "for i in line:\n",
    "    i = i.strip()\n",
    "    temp.append(i+'\\n')\n",
    "# print(temp)\n",
    "line = open('horse-colic.test', 'w', encoding='utf-8')\n",
    "line.writelines(temp)\n",
    "line.close()"
   ]
  },
  {
   "cell_type": "code",
   "execution_count": null,
   "metadata": {},
   "outputs": [],
   "source": [
    "from sklearn.neighbors import KNeighborsClassifier\n",
    "from sklearn.impute import KNNImputer\n",
    "from sklearn.metrics import accuracy_score\n",
    "import pandas as pd\n",
    "import numpy as np\n",
    "\n",
    "#Setting up data\n",
    "headernames = [\"Surgery?\",\"Age\",\"HospitalNo\",\"RectalTemp\",\"Pulse\",\"RespiratoryRate\",\"ExtremitiesTemp\",\"PeripheralPulse\",\"MucousMembranes\",\"CapillaryRefillTime\",\"PainLevel\",\"Peristalsis\",\"AbdominalDistension\",\"NasogastricTube\",\"NasogastricReflux\",\"NasogastricRefluxPH\",\"Feces\",\"Abdomen\",\"PackedCellVolume\",\"TotalProtein\",\"AbdominocentesisAppearance\",\"AbdominocentesisTotalProtein\",\"Outcome\",\"SurgicalLesion\",\"LesionTypeOne\",\"LesionTypeTwo\",\"LesionTypeThree\",\"CPData\"]"
   ]
  },
  {
   "cell_type": "markdown",
   "metadata": {},
   "source": [
    "<h3>Get the data for X,Y train and also replace NaN with high number</h3>"
   ]
  },
  {
   "cell_type": "code",
   "execution_count": null,
   "metadata": {},
   "outputs": [],
   "source": [
    "horsedataoriginal = pd.read_csv(\"horse-colic.data\",sep=\" \",index_col=False,names=headernames).replace('?', 999) #change the data file path, also replace ? with NaN for easier process\n",
    "horsedataoriginal = horsedataoriginal.iloc[:,:24]\n",
    "\n",
    "horsedataoriginal = horsedataoriginal.drop(columns=[\"HospitalNo\"]) #Remove unused factors\n",
    "horsedataoriginal = horsedataoriginal[0:]\n",
    "horsedataoriginal[\"Outcome\"] = horsedataoriginal[\"Outcome\"].replace(\"3\",\"2\")\n",
    "horsedataoriginal\n",
    "# display(HTML(horsedataoriginal.to_html())) #To display all data"
   ]
  },
  {
   "cell_type": "code",
   "execution_count": null,
   "metadata": {},
   "outputs": [],
   "source": [
    "horsedata = horsedataoriginal\n",
    "x_train = horsedata.loc[:,horsedata.columns!=\"Outcome\"].astype(float)\n",
    "print(x_train.shape)\n",
    "y_train = horsedata[\"Outcome\"].astype(float)\n"
   ]
  },
  {
   "cell_type": "markdown",
   "metadata": {},
   "source": [
    "<h3>Get the data for X,Y test and also replace NaN with high number</h3>"
   ]
  },
  {
   "cell_type": "code",
   "execution_count": null,
   "metadata": {},
   "outputs": [],
   "source": [
    "horsedatatest = pd.read_csv(\"horse-colic.test\",sep=\" \",index_col=False,names=headernames).replace('?', 999)#change the data file path, also replace ? with NaN for easier process\n",
    "horsedatatest = horsedatatest.iloc[:,:24]\n",
    "horsedatatest = horsedatatest.drop(columns=[\"HospitalNo\"]) #Remove unused factors\n",
    "horsedatatest = horsedatatest[0:]\n",
    "horsedatatest[\"Outcome\"] = horsedatatest[\"Outcome\"].replace(\"3\",\"2\")\n",
    "horsedatatest"
   ]
  },
  {
   "cell_type": "markdown",
   "metadata": {},
   "source": [
    "<h2>Creating the KNeighborsClassifier</h2>"
   ]
  },
  {
   "cell_type": "code",
   "execution_count": null,
   "metadata": {},
   "outputs": [],
   "source": [
    "Kclassifier = KNeighborsClassifier(metric='euclidean')\n",
    "Kclassifier.fit(x_train,y_train)"
   ]
  }
 ],
 "metadata": {
  "kernelspec": {
   "display_name": "Python 3.8.15 ('base')",
   "language": "python",
   "name": "python3"
  },
  "language_info": {
   "codemirror_mode": {
    "name": "ipython",
    "version": 3
   },
   "file_extension": ".py",
   "mimetype": "text/x-python",
   "name": "python",
   "nbconvert_exporter": "python",
   "pygments_lexer": "ipython3",
   "version": "3.8.15"
  },
  "orig_nbformat": 4,
  "vscode": {
   "interpreter": {
    "hash": "ad2bdc8ecc057115af97d19610ffacc2b4e99fae6737bb82f5d7fb13d2f2c186"
   }
  }
 },
 "nbformat": 4,
 "nbformat_minor": 2
}
